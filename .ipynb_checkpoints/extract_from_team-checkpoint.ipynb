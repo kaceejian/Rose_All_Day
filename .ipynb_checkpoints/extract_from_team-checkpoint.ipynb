{
 "cells": [
  {
   "cell_type": "code",
   "execution_count": 13,
   "id": "6132495f-2660-4293-9f59-cefa93c74bc7",
   "metadata": {},
   "outputs": [],
   "source": [
    "import pandas as pd \n",
    "import requests\n",
    "import json\n",
    "import pathlib\n",
    "import csv\n",
    "\n",
    "target_wine = \"duckhorn+vineyard+napa+merlot\"\n",
    "target_vintage = \"2\""
   ]
  },
  {
   "cell_type": "code",
   "execution_count": 14,
   "id": "157cb6fd-8b1b-496e-910c-ba0066267cdb",
   "metadata": {
    "tags": []
   },
   "outputs": [],
   "source": [
    "vintages = [2018, 2017,2016,2015,2014,2013,2012,2011,2010,2009,2008,2007,2006,2005,2004,2003,2002,2001,2000,1999,1997,1996,1995,1994,1992,1990,1989,1988,1987,1986,1985,1982,1979]"
   ]
  },
  {
   "cell_type": "code",
   "execution_count": 15,
   "id": "6e62f381-af4c-4356-8748-f2566c183722",
   "metadata": {
    "scrolled": true,
    "tags": []
   },
   "outputs": [],
   "source": [
    "output =[]\n",
    "\n",
    "for vintage in vintages:\n",
    "    results=requests.get(f'https://api.wine-searcher.com/a?api_key=sctdsly08902219021&winename={target_wine}&vintage={vintage}&format=j&location=USA').json()\n",
    "\n",
    "    output.append(results)\n",
    "    \n",
    "    \n",
    "    \n",
    "#apicall = (f'https://api.wine-searcher.com/a?api_key=sctdsly08902219021&winename={target_wine}&vintage={target_vintage}&format=j\"')\n",
    "#apicall = 'https://api.wine-searcher.com/a?api_key=sctdsly08902219021&winename=duckhorn&vintage=2019&format=j\"')"
   ]
  },
  {
   "cell_type": "code",
   "execution_count": 18,
   "id": "023a7061-020a-4890-87ca-1855d9d01912",
   "metadata": {},
   "outputs": [
    {
     "ename": "KeyError",
     "evalue": "'prices-and-stores'",
     "output_type": "error",
     "traceback": [
      "\u001b[1;31m---------------------------------------------------------------------------\u001b[0m",
      "\u001b[1;31mKeyError\u001b[0m                                  Traceback (most recent call last)",
      "\u001b[1;32m<ipython-input-18-72f69017a1b0>\u001b[0m in \u001b[0;36m<module>\u001b[1;34m\u001b[0m\n\u001b[1;32m----> 1\u001b[1;33m \u001b[0moutput\u001b[0m\u001b[1;33m[\u001b[0m\u001b[1;36m0\u001b[0m\u001b[1;33m]\u001b[0m\u001b[1;33m[\u001b[0m\u001b[1;34m'prices-and-stores'\u001b[0m\u001b[1;33m]\u001b[0m\u001b[1;33m[\u001b[0m\u001b[1;36m0\u001b[0m\u001b[1;33m]\u001b[0m\u001b[1;33m\u001b[0m\u001b[1;33m\u001b[0m\u001b[0m\n\u001b[0m",
      "\u001b[1;31mKeyError\u001b[0m: 'prices-and-stores'"
     ]
    }
   ],
   "source": [
    "output[0]['prices-and-stores'][0]"
   ]
  },
  {
   "cell_type": "code",
   "execution_count": 19,
   "id": "de4c2640-d3e0-4f1a-9d04-0f70b44871e0",
   "metadata": {},
   "outputs": [
    {
     "ename": "KeyError",
     "evalue": "'prices-and-stores'",
     "output_type": "error",
     "traceback": [
      "\u001b[1;31m---------------------------------------------------------------------------\u001b[0m",
      "\u001b[1;31mKeyError\u001b[0m                                  Traceback (most recent call last)",
      "\u001b[1;32m<ipython-input-19-01bdfde688de>\u001b[0m in \u001b[0;36m<module>\u001b[1;34m\u001b[0m\n\u001b[0;32m      1\u001b[0m \u001b[0mdataset\u001b[0m \u001b[1;33m=\u001b[0m \u001b[1;33m[\u001b[0m\u001b[1;33m]\u001b[0m\u001b[1;33m\u001b[0m\u001b[1;33m\u001b[0m\u001b[0m\n\u001b[0;32m      2\u001b[0m \u001b[1;32mfor\u001b[0m \u001b[0mi\u001b[0m \u001b[1;32min\u001b[0m \u001b[0mrange\u001b[0m\u001b[1;33m(\u001b[0m\u001b[0mlen\u001b[0m\u001b[1;33m(\u001b[0m\u001b[0moutput\u001b[0m\u001b[1;33m)\u001b[0m\u001b[1;33m)\u001b[0m\u001b[1;33m:\u001b[0m\u001b[1;33m\u001b[0m\u001b[1;33m\u001b[0m\u001b[0m\n\u001b[1;32m----> 3\u001b[1;33m      \u001b[1;32mfor\u001b[0m \u001b[0mj\u001b[0m \u001b[1;32min\u001b[0m \u001b[0mrange\u001b[0m\u001b[1;33m(\u001b[0m\u001b[0mlen\u001b[0m\u001b[1;33m(\u001b[0m\u001b[0moutput\u001b[0m\u001b[1;33m[\u001b[0m\u001b[0mi\u001b[0m\u001b[1;33m]\u001b[0m\u001b[1;33m[\u001b[0m\u001b[1;34m'prices-and-stores'\u001b[0m\u001b[1;33m]\u001b[0m\u001b[1;33m)\u001b[0m\u001b[1;33m)\u001b[0m\u001b[1;33m:\u001b[0m\u001b[1;33m\u001b[0m\u001b[1;33m\u001b[0m\u001b[0m\n\u001b[0m\u001b[0;32m      4\u001b[0m           \u001b[0mrow\u001b[0m \u001b[1;33m=\u001b[0m \u001b[0moutput\u001b[0m\u001b[1;33m[\u001b[0m\u001b[0mi\u001b[0m\u001b[1;33m]\u001b[0m\u001b[1;33m[\u001b[0m\u001b[1;34m'prices-and-stores'\u001b[0m\u001b[1;33m]\u001b[0m\u001b[1;33m[\u001b[0m\u001b[0mj\u001b[0m\u001b[1;33m]\u001b[0m\u001b[1;33m\u001b[0m\u001b[1;33m\u001b[0m\u001b[0m\n\u001b[0;32m      5\u001b[0m           \u001b[0mdataset\u001b[0m\u001b[1;33m.\u001b[0m\u001b[0mappend\u001b[0m\u001b[1;33m(\u001b[0m\u001b[0mrow\u001b[0m\u001b[1;33m)\u001b[0m\u001b[1;33m\u001b[0m\u001b[1;33m\u001b[0m\u001b[0m\n",
      "\u001b[1;31mKeyError\u001b[0m: 'prices-and-stores'"
     ]
    }
   ],
   "source": [
    "dataset = []\n",
    "for i in range(len(output)):\n",
    "     for j in range(len(output[i]['prices-and-stores'])):\n",
    "          row = output[i]['prices-and-stores'][j]\n",
    "          dataset.append(row)\n",
    "        "
   ]
  },
  {
   "cell_type": "code",
   "execution_count": 11,
   "id": "36e060d0-2d69-4e1e-a3fb-d6a5bc7e780d",
   "metadata": {},
   "outputs": [
    {
     "ename": "NameError",
     "evalue": "name 'dataset' is not defined",
     "output_type": "error",
     "traceback": [
      "\u001b[1;31m---------------------------------------------------------------------------\u001b[0m",
      "\u001b[1;31mNameError\u001b[0m                                 Traceback (most recent call last)",
      "\u001b[1;32m<ipython-input-11-2703d5149a82>\u001b[0m in \u001b[0;36m<module>\u001b[1;34m\u001b[0m\n\u001b[1;32m----> 1\u001b[1;33m \u001b[0mdf\u001b[0m\u001b[1;33m=\u001b[0m\u001b[0mpd\u001b[0m\u001b[1;33m.\u001b[0m\u001b[0mDataFrame\u001b[0m\u001b[1;33m(\u001b[0m\u001b[0mdataset\u001b[0m\u001b[1;33m)\u001b[0m\u001b[1;33m\u001b[0m\u001b[1;33m\u001b[0m\u001b[0m\n\u001b[0m\u001b[0;32m      2\u001b[0m \u001b[0mdf\u001b[0m\u001b[1;33m\u001b[0m\u001b[1;33m\u001b[0m\u001b[0m\n",
      "\u001b[1;31mNameError\u001b[0m: name 'dataset' is not defined"
     ]
    }
   ],
   "source": [
    "df=pd.DataFrame(dataset)\n",
    "df\n"
   ]
  },
  {
   "cell_type": "code",
   "execution_count": null,
   "id": "06c4863c-99f1-4064-94e9-ac74751dbc13",
   "metadata": {},
   "outputs": [],
   "source": [
    "#print(requests.get(apicall))\n",
    "r = requests.get(apicall)\n",
    "r"
   ]
  },
  {
   "cell_type": "code",
   "execution_count": null,
   "id": "377c90ba-8ba4-4f9b-b2f3-e71942778aaf",
   "metadata": {},
   "outputs": [],
   "source": [
    "# decode json data into a dict object\n",
    "df = pd.read_json(apicall)\n",
    "#df.head()\n",
    "df"
   ]
  },
  {
   "cell_type": "raw",
   "id": "8d968b61-e482-4446-962a-e55235a1756d",
   "metadata": {
    "tags": []
   },
   "source": [
    "\n",
    "#print(requests.get(apicall).json())\n",
    "json = r.json()\n",
    "\n",
    "json"
   ]
  },
  {
   "cell_type": "code",
   "execution_count": null,
   "id": "bce46433-ca86-401a-8eee-f2acff9c9074",
   "metadata": {},
   "outputs": [],
   "source": []
  },
  {
   "cell_type": "raw",
   "id": "0d8e5e8f-842f-470b-a098-a565b41432d2",
   "metadata": {},
   "source": [
    "type(json['merchant-name'])"
   ]
  },
  {
   "cell_type": "code",
   "execution_count": null,
   "id": "147cd343-19e3-46ba-8abf-5600a44b31e4",
   "metadata": {},
   "outputs": [],
   "source": [
    "json.keys()\n"
   ]
  },
  {
   "cell_type": "code",
   "execution_count": null,
   "id": "c7c1cca5-ebf8-4d7d-9b73-6fc491a29ca3",
   "metadata": {
    "tags": []
   },
   "outputs": [],
   "source": [
    "# Pretty Print the output of the JSON\n",
    "response = requests.get(apicall).json()\n",
    "print(json.dumps(response, indent=4, sort_keys=True))"
   ]
  },
  {
   "cell_type": "code",
   "execution_count": null,
   "id": "333aaf3e-070f-484c-973d-0d6425bbe5ee",
   "metadata": {
    "tags": []
   },
   "outputs": [],
   "source": [
    "with open(response) as json_data:\n",
    "  obj = json.load(json_data)\n",
    "  frame = pd.DataFrame(obj['TimeSeries']['Row'], columns=['CLOSE', 'TIMESTAMP'])"
   ]
  },
  {
   "cell_type": "code",
   "execution_count": null,
   "id": "7037a3a0-4b9c-4ee4-b416-4dfd40faabaf",
   "metadata": {},
   "outputs": [],
   "source": []
  }
 ],
 "metadata": {
  "kernelspec": {
   "display_name": "Python 3",
   "language": "python",
   "name": "python3"
  },
  "language_info": {
   "codemirror_mode": {
    "name": "ipython",
    "version": 3
   },
   "file_extension": ".py",
   "mimetype": "text/x-python",
   "name": "python",
   "nbconvert_exporter": "python",
   "pygments_lexer": "ipython3",
   "version": "3.8.8"
  }
 },
 "nbformat": 4,
 "nbformat_minor": 5
}
