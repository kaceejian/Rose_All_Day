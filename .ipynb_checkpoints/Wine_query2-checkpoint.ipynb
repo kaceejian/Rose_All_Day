{
 "cells": [
  {
   "cell_type": "code",
   "execution_count": 1,
   "id": "19b4a252",
   "metadata": {},
   "outputs": [
    {
     "ename": "SyntaxError",
     "evalue": "invalid syntax (<ipython-input-1-3c42b32b8931>, line 2)",
     "output_type": "error",
     "traceback": [
      "\u001b[1;36m  File \u001b[1;32m\"<ipython-input-1-3c42b32b8931>\"\u001b[1;36m, line \u001b[1;32m2\u001b[0m\n\u001b[1;33m    ----\u001b[0m\n\u001b[1;37m        ^\u001b[0m\n\u001b[1;31mSyntaxError\u001b[0m\u001b[1;31m:\u001b[0m invalid syntax\n"
     ]
    }
   ],
   "source": [
    "# Rosé All Day\n",
    "----\n",
    "\n",
    "#### Note\n",
    "* "
   ]
  },
  {
   "cell_type": "code",
   "execution_count": null,
   "id": "2a84816d",
   "metadata": {},
   "outputs": [],
   "source": [
    "\n"
   ]
  },
  {
   "cell_type": "code",
   "execution_count": 24,
   "id": "b3c54137",
   "metadata": {},
   "outputs": [],
   "source": [
    "import json\n",
    "import requests\n",
    "from config import api_key"
   ]
  },
  {
   "cell_type": "code",
   "execution_count": 58,
   "id": "2c7e253b",
   "metadata": {},
   "outputs": [],
   "source": [
    "# Save config information\n",
    "base_url = \"https://api.wine-searcher.com/a?\"\n",
    "# wine_name = \"haut+brion\"\n",
    "wine_name = \"duckhorn\"\n",
    "vintage_year = \"1996\"\n",
    "format_ = \"J\"\n",
    "location = \"USA\""
   ]
  },
  {
   "cell_type": "code",
   "execution_count": 15,
   "id": "604d71ec",
   "metadata": {},
   "outputs": [],
   "source": [
    "# Build query URL\n",
    "# query_url = base_url + \"api_key=\" + api_key + \"&winename=\" + wine + \"&vintage=\" + vintage"
   ]
  },
  {
   "cell_type": "code",
   "execution_count": 59,
   "id": "e2351b97",
   "metadata": {
    "scrolled": true
   },
   "outputs": [],
   "source": [
    "# Alternate syntax, using params dictionary\n",
    "parameters = {\n",
    "    'api_key': api_key,\n",
    "    'winename': wine_name,\n",
    "    'vintage': vintage_year,\n",
    "    'format': format_,\n",
    "    'location': location\n",
    "}"
   ]
  },
  {
   "cell_type": "code",
   "execution_count": 60,
   "id": "d571c81b",
   "metadata": {},
   "outputs": [
    {
     "data": {
      "text/plain": [
       "<Response [200]>"
      ]
     },
     "execution_count": 60,
     "metadata": {},
     "output_type": "execute_result"
    }
   ],
   "source": [
    "# Get wine data\n",
    "wine_response = requests.get(url=base_url, params=parameters)\n",
    "wine_response"
   ]
  },
  {
   "cell_type": "code",
   "execution_count": 61,
   "id": "450391b2",
   "metadata": {},
   "outputs": [
    {
     "data": {
      "text/plain": [
       "{'return-code': 0,\n",
       " 'list-comment': 'Marketplace',\n",
       " 'list-location': 'USA',\n",
       " 'list-state': '',\n",
       " 'list-currency-code': 'USD',\n",
       " 'list-count': 1,\n",
       " 'prices-and-stores': [{'merchant-name': 'Vinfolio',\n",
       "   'merchant-description': 'Fine wine and services to wine collectors and enthusiasts. Worldwide shipping. ex. sales tax',\n",
       "   'physical-address': '500 Devlin Road, Suite 102, Napa, CA 94558',\n",
       "   'zip-code': '94558',\n",
       "   'latitude': 38.221299,\n",
       "   'longitude': -122.260183,\n",
       "   'country': 'USA',\n",
       "   'state': 'CA',\n",
       "   'vintage': 1996,\n",
       "   'price': '29.00',\n",
       "   'bottle-size': 'Half Bottle (375ml)',\n",
       "   'link': 'https://www.wine-searcher.com/redirect?from_type_F=A&from_page_F=1462&wine_id_F=2011458&wine_name_id_F=38316&merchant_id_F=5824&price_F=21.122314&page_no_F=1&line_no_F=1&ebp_price_F=42.24463&bot_size_F=Half+Bottle+%28375ml%29&design_F=&offer_type_F=R&tax_status_F=ex.+sales+tax&Xwinename=duckhorn&Xvintage_F=1996&Xlocation=USA&Xcurrencycode=USD'}]}"
      ]
     },
     "execution_count": 61,
     "metadata": {},
     "output_type": "execute_result"
    }
   ],
   "source": [
    "wine_response_json = wine_response.json()\n",
    "wine_response_json"
   ]
  }
 ],
 "metadata": {
  "kernelspec": {
   "display_name": "Python 3",
   "language": "python",
   "name": "python3"
  },
  "language_info": {
   "codemirror_mode": {
    "name": "ipython",
    "version": 3
   },
   "file_extension": ".py",
   "mimetype": "text/x-python",
   "name": "python",
   "nbconvert_exporter": "python",
   "pygments_lexer": "ipython3",
   "version": "3.8.8"
  }
 },
 "nbformat": 4,
 "nbformat_minor": 5
}
